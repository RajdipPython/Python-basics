{
 "cells": [
  {
   "cell_type": "code",
   "execution_count": null,
   "id": "fd28b31a-bcb4-4a17-8396-d011389406c5",
   "metadata": {},
   "outputs": [],
   "source": [
    "#1. What is Python, and why is it popular?\n",
    "#  \n",
    "#   Python is a high-level, interpreted programming language known for its readability and simplicity. It's popular because it has a clean syntax that      makes it easy to learn and use, extensive libraries for various tasks, and a large          supportive community.\n",
    "#\n",
    "#2. What is an interpreter in Python?\n",
    "#   An interpreter in Python is a program that reads and executes Python code. It translates the high-level Python code into machine code line by line,     which allows for interactive coding.\n",
    "#\n",
    "#3. What are pre-defined keywords in Python?\n",
    "#   Pre-defined keywords in Python are reserved words that have special meanings and cannot be used as variable names. Examples include `if`, `else`,       `while`, `for`, `def`, `return`, and `class`.\n",
    "#\n",
    "#4. Can keywords be used as variable names?\n",
    "#   No, keywords cannot be used as variable names in Python because they are reserved for specific syntactic purposes.\n",
    "#\n",
    "#5. What is mutability in Python?\n",
    "#   Mutability in Python refers to whether an object's state can be modified after it is created. Mutable objects can be changed (e.g., lists,              dictionaries), while immutable objects cannot be altered once created (e.g., strings, tuples).\n",
    "#\n",
    "#6. Why are lists mutable, but tuples are immutable?\n",
    "#   Lists are mutable because they are designed to be dynamic and allow modifications like adding, removing, or changing elements. Tuples, on the other     hand, are immutable to ensure that their contents remain constant, which can be useful for fixed collections of items.\n",
    "#\n",
    "#7. What is the difference between “==” and “is” operators in Python?\n",
    "#   The `==` operator checks if the values of two objects are equal, while the `is` operator checks if two references point to the same object in memory.\n",
    "#\n",
    "#8. What are logical operators in Python?\n",
    "#   Logical operators in Python are used to combine conditional statements. They include `and`, `or`, and `not`.\n",
    "#\n",
    "#9. What is type casting in Python?\n",
    "#   Type casting in Python is the process of converting one data type to another. This can be done using functions like `int()`, `float()`, and `str()`.\n",
    "#\n",
    "#10. What is the difference between implicit and explicit type casting?\n",
    "#    Implicit type casting is automatically performed by Python when it encounters mixed data types in an expression, while explicit type casting is         done manually by the programmer using casting functions.\n",
    "#\n",
    "#11. What is the purpose of conditional statements in Python?\n",
    "#    Conditional statements in Python are used to execute code based on certain conditions. They help in decision-making processes within the code.\n",
    "#\n",
    "#12. How does the `elif` statement work?\n",
    "#    The `elif` statement in Python is used to check multiple conditions after an initial `if` statement. If the `if` condition is false, the `elif`         condition is checked, and so on.\n",
    "#\n",
    "#13. What is the difference between `for` and `while` loops?\n",
    "#    A `for` loop iterates over a sequence and executes the block of code for each item in the sequence. A `while` loop continues to execute the             block of code as long as the condition is true.\n",
    "#\n",
    "#14. Describe a scenario where a `while` loop is more suitable than a `for` loop.\n",
    "#    A `while` loop is more suitable when the number of iterations is not known beforehand and depends on a condition being met. For example, reading        user input until a valid response is received."
   ]
  },
  {
   "cell_type": "code",
   "execution_count": 1,
   "id": "62f87194-7ac5-4fbe-8b60-49fbb7b89c35",
   "metadata": {},
   "outputs": [
    {
     "name": "stdout",
     "output_type": "stream",
     "text": [
      "Hello, World!\n"
     ]
    }
   ],
   "source": [
    "#1. Write a Python program to print \"Hello, World!\"\n",
    "print(\"Hello, World!\")"
   ]
  },
  {
   "cell_type": "code",
   "execution_count": 9,
   "id": "c21b10dd-346b-4c74-b6c2-0c2cdf08544f",
   "metadata": {},
   "outputs": [
    {
     "name": "stdin",
     "output_type": "stream",
     "text": [
      "Type your Name Rajdip Upadhyay\n",
      "Type yoyr Age 27\n"
     ]
    },
    {
     "name": "stdout",
     "output_type": "stream",
     "text": [
      "Name:Rajdip Upadhyay\n",
      "Age:27\n"
     ]
    }
   ],
   "source": [
    "#2. Write a Python program that displays your name and age\n",
    "a=input(\"Type your Name\")\n",
    "b=input(\"Type yoyr Age\")\n",
    "print(f\"Name:{a}\\nAge:{b}\")"
   ]
  },
  {
   "cell_type": "code",
   "execution_count": 3,
   "id": "8cafc0ae-c0bd-4d0b-acf9-35eec6a6ab0a",
   "metadata": {},
   "outputs": [
    {
     "name": "stdout",
     "output_type": "stream",
     "text": [
      "\n",
      "Here is a list of the Python keywords.  Enter any keyword to get more help.\n",
      "\n",
      "False               class               from                or\n",
      "None                continue            global              pass\n",
      "True                def                 if                  raise\n",
      "and                 del                 import              return\n",
      "as                  elif                in                  try\n",
      "assert              else                is                  while\n",
      "async               except              lambda              with\n",
      "await               finally             nonlocal            yield\n",
      "break               for                 not                 \n",
      "\n"
     ]
    }
   ],
   "source": [
    "#3. Write code to print all the pre-defined keywords in Python using the keyword library.\n",
    "help(\"keywords\")"
   ]
  },
  {
   "cell_type": "code",
   "execution_count": 2,
   "id": "b25a8fe1-baf3-47eb-ac98-592a6e43c1fe",
   "metadata": {},
   "outputs": [
    {
     "name": "stdin",
     "output_type": "stream",
     "text": [
      "Enter a word to check if it's a Python keyword:  int\n"
     ]
    },
    {
     "ename": "NameError",
     "evalue": "name 'keyword' is not defined",
     "output_type": "error",
     "traceback": [
      "\u001b[1;31m---------------------------------------------------------------------------\u001b[0m",
      "\u001b[1;31mNameError\u001b[0m                                 Traceback (most recent call last)",
      "Cell \u001b[1;32mIn[2], line 3\u001b[0m\n\u001b[0;32m      1\u001b[0m \u001b[38;5;66;03m#4. Write a program that checks if a given word is a Python keyword\u001b[39;00m\n\u001b[0;32m      2\u001b[0m word \u001b[38;5;241m=\u001b[39m \u001b[38;5;28minput\u001b[39m(\u001b[38;5;124m\"\u001b[39m\u001b[38;5;124mEnter a word to check if it\u001b[39m\u001b[38;5;124m'\u001b[39m\u001b[38;5;124ms a Python keyword: \u001b[39m\u001b[38;5;124m\"\u001b[39m)\n\u001b[1;32m----> 3\u001b[0m \u001b[38;5;28;01mif\u001b[39;00m word \u001b[38;5;129;01mis\u001b[39;00m keyword(word):\n\u001b[0;32m      4\u001b[0m     \u001b[38;5;28mprint\u001b[39m(\u001b[38;5;124mf\u001b[39m\u001b[38;5;124m\"\u001b[39m\u001b[38;5;124m'\u001b[39m\u001b[38;5;132;01m{\u001b[39;00mword\u001b[38;5;132;01m}\u001b[39;00m\u001b[38;5;124m'\u001b[39m\u001b[38;5;124m is a Python keyword.\u001b[39m\u001b[38;5;124m\"\u001b[39m)\n\u001b[0;32m      5\u001b[0m \u001b[38;5;28;01melse\u001b[39;00m:\n",
      "\u001b[1;31mNameError\u001b[0m: name 'keyword' is not defined"
     ]
    }
   ],
   "source": [
    "#4. Write a program that checks if a given word is a Python keyword\n",
    "word = input(\"Enter a word to check if it's a Python keyword: \")\n",
    "if word is keyword(word):\n",
    "    print(f\"'{word}' is a Python keyword.\")\n",
    "else:\n",
    "    print(f\"'{word}' is not a Python keyword.\")"
   ]
  },
  {
   "cell_type": "code",
   "execution_count": 19,
   "id": "cdedcd93-0568-465b-8410-63dd5c43dc87",
   "metadata": {},
   "outputs": [
    {
     "name": "stdout",
     "output_type": "stream",
     "text": [
      "[1, 2, 5, 4.5]\n"
     ]
    }
   ],
   "source": [
    "#5.  Create a list and tuple in Python, and demonstrate how attempting to change an element works differently\n",
    "#    for each.\n",
    "lis1=[1,2,\"Math\",4.5]\n",
    "tup1=(1,2,\"Math\",4.5)\n",
    "#want to change the string into an integer\n",
    "lis1[2]=5\n",
    "print(lis1)"
   ]
  },
  {
   "cell_type": "code",
   "execution_count": 20,
   "id": "498c9653-00b4-4eba-936b-77dd9abb0fbd",
   "metadata": {},
   "outputs": [
    {
     "ename": "TypeError",
     "evalue": "'tuple' object does not support item assignment",
     "output_type": "error",
     "traceback": [
      "\u001b[1;31m---------------------------------------------------------------------------\u001b[0m",
      "\u001b[1;31mTypeError\u001b[0m                                 Traceback (most recent call last)",
      "Cell \u001b[1;32mIn[20], line 1\u001b[0m\n\u001b[1;32m----> 1\u001b[0m tup1[\u001b[38;5;241m2\u001b[39m]\u001b[38;5;241m=\u001b[39m\u001b[38;5;241m5\u001b[39m\n\u001b[0;32m      2\u001b[0m \u001b[38;5;28mprint\u001b[39m(tup1)\n",
      "\u001b[1;31mTypeError\u001b[0m: 'tuple' object does not support item assignment"
     ]
    }
   ],
   "source": [
    "tup1[2]=5\n",
    "print(tup1)"
   ]
  },
  {
   "cell_type": "code",
   "execution_count": 30,
   "id": "d05d9512-2975-4ce2-a0ef-3995f41dcf86",
   "metadata": {},
   "outputs": [
    {
     "data": {
      "text/plain": [
       "[1, 2, 4.5]"
      ]
     },
     "execution_count": 30,
     "metadata": {},
     "output_type": "execute_result"
    }
   ],
   "source": [
    "#6. Write a function to demonstrate the behavior of mutable and immutable arguments.\n",
    "lis1=[1,2,\"Math\",4.5]\n",
    "tup1=(1,2,\"Math\",4.5)\n",
    "lis1.remove(\"Math\")\n",
    "lis1"
   ]
  },
  {
   "cell_type": "code",
   "execution_count": 23,
   "id": "3677c8bd-1f13-4c28-b233-b465ee068844",
   "metadata": {},
   "outputs": [
    {
     "ename": "AttributeError",
     "evalue": "'tuple' object has no attribute 'remove'",
     "output_type": "error",
     "traceback": [
      "\u001b[1;31m---------------------------------------------------------------------------\u001b[0m",
      "\u001b[1;31mAttributeError\u001b[0m                            Traceback (most recent call last)",
      "Cell \u001b[1;32mIn[23], line 1\u001b[0m\n\u001b[1;32m----> 1\u001b[0m tup1\u001b[38;5;241m.\u001b[39mremove(\u001b[38;5;124m\"\u001b[39m\u001b[38;5;124mMath\u001b[39m\u001b[38;5;124m\"\u001b[39m)\n\u001b[0;32m      2\u001b[0m tup1\n",
      "\u001b[1;31mAttributeError\u001b[0m: 'tuple' object has no attribute 'remove'"
     ]
    }
   ],
   "source": [
    "tup1.remove(\"Math\")\n",
    "tup1"
   ]
  },
  {
   "cell_type": "code",
   "execution_count": 31,
   "id": "f522c318-2657-4992-bd8a-ba834736f2e2",
   "metadata": {},
   "outputs": [
    {
     "name": "stdin",
     "output_type": "stream",
     "text": [
      "Type the operation, you want to perform among +,-,*,/ : *\n",
      "Type the first number 99\n",
      "Type the second number 0\n"
     ]
    },
    {
     "name": "stdout",
     "output_type": "stream",
     "text": [
      "The multiplication is = 0\n"
     ]
    }
   ],
   "source": [
    "#7. Write a program that performs basic arithmetic operations on two user-input numbers.\n",
    "o=input(\"Type the operation, you want to perform among +,-,*,/ :\")\n",
    "a=int(input(\"Type the first number\"))\n",
    "b=int(input(\"Type the second number\"))\n",
    "if o== \"+\":\n",
    "    print(\"The summation is =\",a+b)\n",
    "elif o== \"-\":\n",
    "    print(\"The subtraction is =\",a-b)\n",
    "elif o== \"*\":\n",
    "    print(\"The multiplication is =\",a*b)\n",
    "elif o== \"/\":\n",
    "    print(\"The division is =\",a/b)\n",
    "else:\n",
    "    print(\"Sorry! dont know\")"
   ]
  },
  {
   "cell_type": "code",
   "execution_count": 36,
   "id": "ccf125cf-80ac-401c-ac49-e216c20f8249",
   "metadata": {},
   "outputs": [
    {
     "name": "stdin",
     "output_type": "stream",
     "text": [
      "Type your age : 90\n"
     ]
    },
    {
     "name": "stdout",
     "output_type": "stream",
     "text": [
      "You are not allowed\n"
     ]
    }
   ],
   "source": [
    "#8.  Write a program to demonstrate the use of logical operators\n",
    "a=int(input(\"Type your age :\"))\n",
    "if a<18 and a>60:\n",
    "    print(\"You are allowed to go inside\")\n",
    "else:\n",
    "    print(\"You are not allowed\")"
   ]
  },
  {
   "cell_type": "code",
   "execution_count": 7,
   "id": "44d5da2c-29c1-47ba-8a14-dd9fc81164e9",
   "metadata": {},
   "outputs": [
    {
     "name": "stdin",
     "output_type": "stream",
     "text": [
      "Type the number : 78\n"
     ]
    },
    {
     "name": "stdout",
     "output_type": "stream",
     "text": [
      "Integer=78\n",
      "Float=78.0\n",
      "Boolean=True\n"
     ]
    }
   ],
   "source": [
    "#9. Write a Python program to convert user input from string to integer, float, and boolean types\n",
    "a=input(\"Type the number :\")\n",
    "i = int(a)\n",
    "f = float(a)\n",
    "b = bool(a)\n",
    "print(f\"Integer={i}\\nFloat={f}\\nBoolean={b}\")"
   ]
  },
  {
   "cell_type": "code",
   "execution_count": 1,
   "id": "7a83d7ac-1a25-4e09-8aac-f477932d0727",
   "metadata": {},
   "outputs": [
    {
     "name": "stdout",
     "output_type": "stream",
     "text": [
      "<class 'list'>\n"
     ]
    }
   ],
   "source": [
    "#10. Write code to demonstrate type casting with list elements\n",
    "mylist1=[1,1.1,4,\"Rajdip\"]\n",
    "print(type(mylist1))"
   ]
  },
  {
   "cell_type": "code",
   "execution_count": 9,
   "id": "be68e2d7-8f11-466c-9371-d39b1c92695c",
   "metadata": {},
   "outputs": [
    {
     "name": "stdin",
     "output_type": "stream",
     "text": [
      "Type the number : 0\n"
     ]
    },
    {
     "name": "stdout",
     "output_type": "stream",
     "text": [
      "The number is zero\n"
     ]
    }
   ],
   "source": [
    "#11. Write a program that checks if a number is positive, negative, or zero.\n",
    "a=float(input(\"Type the number :\"))\n",
    "if a>0:\n",
    "    print(\"The number is positive\")\n",
    "elif a==0:\n",
    "    print(\"The number is zero\")\n",
    "elif a<0:\n",
    "    print(\"The number is negative\")"
   ]
  },
  {
   "cell_type": "code",
   "execution_count": 13,
   "id": "e9338033-81e5-459e-83fe-d59814c43e88",
   "metadata": {},
   "outputs": [
    {
     "name": "stdout",
     "output_type": "stream",
     "text": [
      "1,2,3,4,5,6,7,8,9,10,"
     ]
    }
   ],
   "source": [
    "#12. Write a for loop to print numbers from 1 to 10\n",
    "a=1\n",
    "while a<=10:\n",
    "    print(a,end=\",\")\n",
    "    a=a+1"
   ]
  },
  {
   "cell_type": "code",
   "execution_count": 10,
   "id": "124b1d0a-ac7c-4e3e-bdc1-26b020c24e5e",
   "metadata": {},
   "outputs": [
    {
     "name": "stdin",
     "output_type": "stream",
     "text": [
      "Type the small number:  1\n",
      "Type the large number:  50\n"
     ]
    },
    {
     "name": "stdout",
     "output_type": "stream",
     "text": [
      "The sum of even number b/w 1 and 50 is : 650\n"
     ]
    }
   ],
   "source": [
    "#13. Write a Python program to find the sum of all even numbers between 1 and 50.\n",
    "x=int(input(\"Type the small number: \"))\n",
    "y=int(input(\"Type the large number: \"))\n",
    "a=x\n",
    "s=0\n",
    "while x<= a <=y:\n",
    "    if a%2==0:\n",
    "        s+=a\n",
    "    a+=1\n",
    "print(f\"The sum of even number b/w {x} and {y} is : {s}\")"
   ]
  },
  {
   "cell_type": "code",
   "execution_count": 13,
   "id": "9db51037-0856-41c3-a87f-6100c1403d7b",
   "metadata": {},
   "outputs": [
    {
     "name": "stdin",
     "output_type": "stream",
     "text": [
      "Type your string Rajdip\n"
     ]
    },
    {
     "name": "stdout",
     "output_type": "stream",
     "text": [
      "The reverse of the string is: pidjaR\n"
     ]
    }
   ],
   "source": [
    "#14. Write a program to reverse a string using a while loop.\n",
    "a=input(\"Type your string\")\n",
    "b=\"\"\n",
    "x=len(a)\n",
    "i=0\n",
    "while i<x:\n",
    "    b=a[i]+b\n",
    "    i+=1\n",
    "print(f\"The reverse of the string is: {b}\")"
   ]
  },
  {
   "cell_type": "code",
   "execution_count": 6,
   "id": "78b623db-936a-4999-933a-1da4a961fe8b",
   "metadata": {},
   "outputs": [
    {
     "name": "stdin",
     "output_type": "stream",
     "text": [
      "Type the number:  -10\n"
     ]
    },
    {
     "name": "stdout",
     "output_type": "stream",
     "text": [
      "The factorial of -10 is 1\n"
     ]
    }
   ],
   "source": [
    "#15.  Write a Python program to calculate the factorial of a number provided by the user using a while loop.\n",
    "y=int(input(\"Type the number: \"))\n",
    "a=1\n",
    "f=1\n",
    "while a<=y:\n",
    "    f*=a\n",
    "    a=a+1\n",
    "print(f\"The factorial of {y} is {f}\")"
   ]
  },
  {
   "cell_type": "code",
   "execution_count": null,
   "id": "5b69e488-de0f-4117-9d31-7b5bb05f8d47",
   "metadata": {},
   "outputs": [],
   "source": []
  }
 ],
 "metadata": {
  "kernelspec": {
   "display_name": "Python 3 (ipykernel)",
   "language": "python",
   "name": "python3"
  },
  "language_info": {
   "codemirror_mode": {
    "name": "ipython",
    "version": 3
   },
   "file_extension": ".py",
   "mimetype": "text/x-python",
   "name": "python",
   "nbconvert_exporter": "python",
   "pygments_lexer": "ipython3",
   "version": "3.12.7"
  }
 },
 "nbformat": 4,
 "nbformat_minor": 5
}
